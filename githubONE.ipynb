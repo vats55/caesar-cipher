{
 "cells": [
  {
   "cell_type": "code",
   "execution_count": 103,
   "metadata": {},
   "outputs": [],
   "source": [
    "from string import ascii_lowercase,ascii_uppercase"
   ]
  },
  {
   "cell_type": "markdown",
   "metadata": {},
   "source": [
    "# Exercise1"
   ]
  },
  {
   "cell_type": "markdown",
   "metadata": {},
   "source": [
    "Step 1.1"
   ]
  },
  {
   "cell_type": "code",
   "execution_count": 104,
   "metadata": {},
   "outputs": [],
   "source": [
    "#function accepts alphabet string and shift constant\n",
    "def shift_alpha (A,shift=0):\n",
    "    my_dict={}\n",
    "    A= A.upper() #making sure that every alphabet is in upper case\n",
    "    \n",
    "    for character in A:\n",
    "        print(character) #printing character of original string\n",
    "        ascii_value=ord(character) #extract ascii value of corresponding alphabet\n",
    "        new_value=ascii_value+shift \n",
    "        \n",
    "        if new_value<65: # ascii value of upper case letter A is 65\n",
    "            x=ascii_value-65\n",
    "            y=abs(shift)-x\n",
    "            new_character=chr(ord('Z')-(y-1))\n",
    "            \n",
    "        elif new_value>90: #ascii value of upper case letter Z is 90\n",
    "            x=90-ascii_value\n",
    "            y=shift-x\n",
    "            new_character=chr(ord('A')+(y-1))\n",
    "            \n",
    "        else:\n",
    "            new_character=chr(new_value)\n",
    "            \n",
    "        print(new_character) #printing character after the shift constant has been applied\n",
    "        print('\\n') \n",
    "        my_dict[character]=new_character #key will be original character and value will be encrypted character\n",
    "        \n",
    "    print(my_dict)    "
   ]
  },
  {
   "cell_type": "markdown",
   "metadata": {},
   "source": [
    "Step 1.2"
   ]
  },
  {
   "cell_type": "code",
   "execution_count": 112,
   "metadata": {},
   "outputs": [
    {
     "name": "stdout",
     "output_type": "stream",
     "text": [
      "A\n",
      "A\n",
      "\n",
      "\n",
      "B\n",
      "B\n",
      "\n",
      "\n",
      "C\n",
      "C\n",
      "\n",
      "\n",
      "D\n",
      "D\n",
      "\n",
      "\n",
      "E\n",
      "E\n",
      "\n",
      "\n",
      "F\n",
      "F\n",
      "\n",
      "\n",
      "G\n",
      "G\n",
      "\n",
      "\n",
      "H\n",
      "H\n",
      "\n",
      "\n",
      "I\n",
      "I\n",
      "\n",
      "\n",
      "J\n",
      "J\n",
      "\n",
      "\n",
      "K\n",
      "K\n",
      "\n",
      "\n",
      "L\n",
      "L\n",
      "\n",
      "\n",
      "M\n",
      "M\n",
      "\n",
      "\n",
      "N\n",
      "N\n",
      "\n",
      "\n",
      "O\n",
      "O\n",
      "\n",
      "\n",
      "P\n",
      "P\n",
      "\n",
      "\n",
      "Q\n",
      "Q\n",
      "\n",
      "\n",
      "R\n",
      "R\n",
      "\n",
      "\n",
      "S\n",
      "S\n",
      "\n",
      "\n",
      "T\n",
      "T\n",
      "\n",
      "\n",
      "U\n",
      "U\n",
      "\n",
      "\n",
      "V\n",
      "V\n",
      "\n",
      "\n",
      "W\n",
      "W\n",
      "\n",
      "\n",
      "X\n",
      "X\n",
      "\n",
      "\n",
      "Y\n",
      "Y\n",
      "\n",
      "\n",
      "Z\n",
      "Z\n",
      "\n",
      "\n",
      "{'A': 'A', 'B': 'B', 'C': 'C', 'D': 'D', 'E': 'E', 'F': 'F', 'G': 'G', 'H': 'H', 'I': 'I', 'J': 'J', 'K': 'K', 'L': 'L', 'M': 'M', 'N': 'N', 'O': 'O', 'P': 'P', 'Q': 'Q', 'R': 'R', 'S': 'S', 'T': 'T', 'U': 'U', 'V': 'V', 'W': 'W', 'X': 'X', 'Y': 'Y', 'Z': 'Z'}\n"
     ]
    }
   ],
   "source": [
    "shift_alpha(ascii_uppercase,0)"
   ]
  },
  {
   "cell_type": "markdown",
   "metadata": {},
   "source": [
    "Step 1.3"
   ]
  },
  {
   "cell_type": "code",
   "execution_count": 113,
   "metadata": {},
   "outputs": [
    {
     "name": "stdout",
     "output_type": "stream",
     "text": [
      "A\n",
      "P\n",
      "\n",
      "\n",
      "B\n",
      "Q\n",
      "\n",
      "\n",
      "C\n",
      "R\n",
      "\n",
      "\n",
      "D\n",
      "S\n",
      "\n",
      "\n",
      "E\n",
      "T\n",
      "\n",
      "\n",
      "F\n",
      "U\n",
      "\n",
      "\n",
      "G\n",
      "V\n",
      "\n",
      "\n",
      "H\n",
      "W\n",
      "\n",
      "\n",
      "I\n",
      "X\n",
      "\n",
      "\n",
      "J\n",
      "Y\n",
      "\n",
      "\n",
      "K\n",
      "Z\n",
      "\n",
      "\n",
      "L\n",
      "A\n",
      "\n",
      "\n",
      "M\n",
      "B\n",
      "\n",
      "\n",
      "N\n",
      "C\n",
      "\n",
      "\n",
      "O\n",
      "D\n",
      "\n",
      "\n",
      "P\n",
      "E\n",
      "\n",
      "\n",
      "Q\n",
      "F\n",
      "\n",
      "\n",
      "R\n",
      "G\n",
      "\n",
      "\n",
      "S\n",
      "H\n",
      "\n",
      "\n",
      "T\n",
      "I\n",
      "\n",
      "\n",
      "U\n",
      "J\n",
      "\n",
      "\n",
      "V\n",
      "K\n",
      "\n",
      "\n",
      "W\n",
      "L\n",
      "\n",
      "\n",
      "X\n",
      "M\n",
      "\n",
      "\n",
      "Y\n",
      "N\n",
      "\n",
      "\n",
      "Z\n",
      "O\n",
      "\n",
      "\n",
      "{'A': 'P', 'B': 'Q', 'C': 'R', 'D': 'S', 'E': 'T', 'F': 'U', 'G': 'V', 'H': 'W', 'I': 'X', 'J': 'Y', 'K': 'Z', 'L': 'A', 'M': 'B', 'N': 'C', 'O': 'D', 'P': 'E', 'Q': 'F', 'R': 'G', 'S': 'H', 'T': 'I', 'U': 'J', 'V': 'K', 'W': 'L', 'X': 'M', 'Y': 'N', 'Z': 'O'}\n"
     ]
    }
   ],
   "source": [
    "shift_alpha(ascii_uppercase,-11)"
   ]
  },
  {
   "cell_type": "markdown",
   "metadata": {},
   "source": [
    "Step 1.4"
   ]
  },
  {
   "cell_type": "code",
   "execution_count": 114,
   "metadata": {},
   "outputs": [
    {
     "name": "stdout",
     "output_type": "stream",
     "text": [
      "A\n",
      "H\n",
      "\n",
      "\n",
      "B\n",
      "I\n",
      "\n",
      "\n",
      "C\n",
      "J\n",
      "\n",
      "\n",
      "D\n",
      "K\n",
      "\n",
      "\n",
      "E\n",
      "L\n",
      "\n",
      "\n",
      "F\n",
      "M\n",
      "\n",
      "\n",
      "G\n",
      "N\n",
      "\n",
      "\n",
      "H\n",
      "O\n",
      "\n",
      "\n",
      "I\n",
      "P\n",
      "\n",
      "\n",
      "J\n",
      "Q\n",
      "\n",
      "\n",
      "K\n",
      "R\n",
      "\n",
      "\n",
      "L\n",
      "S\n",
      "\n",
      "\n",
      "M\n",
      "T\n",
      "\n",
      "\n",
      "N\n",
      "U\n",
      "\n",
      "\n",
      "O\n",
      "V\n",
      "\n",
      "\n",
      "P\n",
      "W\n",
      "\n",
      "\n",
      "Q\n",
      "X\n",
      "\n",
      "\n",
      "R\n",
      "Y\n",
      "\n",
      "\n",
      "S\n",
      "Z\n",
      "\n",
      "\n",
      "T\n",
      "A\n",
      "\n",
      "\n",
      "U\n",
      "B\n",
      "\n",
      "\n",
      "V\n",
      "C\n",
      "\n",
      "\n",
      "W\n",
      "D\n",
      "\n",
      "\n",
      "X\n",
      "E\n",
      "\n",
      "\n",
      "Y\n",
      "F\n",
      "\n",
      "\n",
      "Z\n",
      "G\n",
      "\n",
      "\n",
      "{'A': 'H', 'B': 'I', 'C': 'J', 'D': 'K', 'E': 'L', 'F': 'M', 'G': 'N', 'H': 'O', 'I': 'P', 'J': 'Q', 'K': 'R', 'L': 'S', 'M': 'T', 'N': 'U', 'O': 'V', 'P': 'W', 'Q': 'X', 'R': 'Y', 'S': 'Z', 'T': 'A', 'U': 'B', 'V': 'C', 'W': 'D', 'X': 'E', 'Y': 'F', 'Z': 'G'}\n"
     ]
    }
   ],
   "source": [
    "shift_alpha(ascii_uppercase,7)"
   ]
  },
  {
   "cell_type": "markdown",
   "metadata": {},
   "source": [
    "# Exercise 2"
   ]
  },
  {
   "cell_type": "markdown",
   "metadata": {},
   "source": [
    "Step 2.1"
   ]
  },
  {
   "cell_type": "code",
   "execution_count": 105,
   "metadata": {},
   "outputs": [],
   "source": [
    "#function returning an encrypted string using a Caesar shift\n",
    "def encrypt (word,shift=0): #default value of shift constant is zero\n",
    "    my_str='' \n",
    "    #print(word)\n",
    "    \n",
    "    for character in word:\n",
    "        if (ord(character)>=65 and ord(character)<=122): #character has to be either upper or lower case\n",
    "            \n",
    "            #print(character)\n",
    "            ascii_value=ord(character)\n",
    "            new_value=ascii_value+shift\n",
    "            \n",
    "            if new_value<65 and (character in ascii_uppercase): #upper case character\n",
    "                x=ascii_value-65 #ascii value less than 64 won't give us a upper case character\n",
    "                y=abs(shift)-x #abs() is used to convert negative shift to positive shift value\n",
    "                new_character=chr(ord('Z')-(y-1)) #used when ascii value is less than 64 , so we have to skip to Z further towards A\n",
    "                \n",
    "            elif new_value<97 and (character in ascii_lowercase): #lower case character\n",
    "                x=ascii_value-97\n",
    "                y=abs(shift)-x\n",
    "                new_character=chr(ord('z')-(y-1))\n",
    "                \n",
    "            elif new_value>90 and (character in ascii_uppercase): \n",
    "                x=90-ascii_value\n",
    "                y=shift-x\n",
    "                new_character=chr(ord('A')+(y-1))\n",
    "                \n",
    "            elif new_value>122 and (character in ascii_lowercase):\n",
    "                x=122-ascii_value\n",
    "                y=shift-x\n",
    "                new_character=chr(ord('a')+(y-1))\n",
    "                \n",
    "            else:\n",
    "                new_character=chr(new_value) \n",
    "            \n",
    "            #print(new_character)\n",
    "            #print('\\n')\n",
    "            my_str=my_str+new_character\n",
    "            \n",
    "        else:                           #for any other character which is not an alphabet\n",
    "            #print(character)\n",
    "            #print('\\n')\n",
    "            my_str=my_str+character\n",
    "            \n",
    "    return(my_str)\n",
    "    "
   ]
  },
  {
   "cell_type": "markdown",
   "metadata": {},
   "source": [
    "Step 2.2"
   ]
  },
  {
   "cell_type": "code",
   "execution_count": 115,
   "metadata": {},
   "outputs": [
    {
     "name": "stdout",
     "output_type": "stream",
     "text": [
      "Kq. ByFJgl :-)\n"
     ]
    }
   ],
   "source": [
    "result=encrypt('Ms. DaHLin :-)',-2) #solved the given example in worksheet\n",
    "print(result)"
   ]
  },
  {
   "cell_type": "markdown",
   "metadata": {},
   "source": [
    "Step 2.3"
   ]
  },
  {
   "cell_type": "code",
   "execution_count": 106,
   "metadata": {},
   "outputs": [
    {
     "name": "stdout",
     "output_type": "stream",
     "text": [
      "['Gnqqnj Jnqnxm', 'Rfwdqfsi', 'Wtzyj 1', 'QfYjC', 'ybjsyd-knwxy hjsyzwd']\n"
     ]
    }
   ],
   "source": [
    "my_list=['Billie Eilish', 'Maryland', 'Route 1', 'LaTeX', 'twenty-first century']\n",
    "my_new_list=[]\n",
    "\n",
    "for item in my_list:\n",
    "    my_new_list.append(encrypt(item,5)) #append string returned by encrypt function to my_new_list\n",
    "    \n",
    "print(my_new_list) #output has encrypted strings for each of the original strings"
   ]
  },
  {
   "cell_type": "markdown",
   "metadata": {},
   "source": [
    "# Exercise3"
   ]
  },
  {
   "cell_type": "markdown",
   "metadata": {},
   "source": [
    "Step 3.1"
   ]
  },
  {
   "cell_type": "code",
   "execution_count": 121,
   "metadata": {},
   "outputs": [],
   "source": [
    "def decrypt(word):\n",
    "    \n",
    "    for count in range(-12,14): #range considered to get 26 shifted messages.\n",
    "        print('{} : {}'.format(count,encrypt(word,count))) #using the same encrypt function designed above to decrypt\n",
    "        "
   ]
  },
  {
   "cell_type": "markdown",
   "metadata": {},
   "source": [
    "Step 3.2"
   ]
  },
  {
   "cell_type": "code",
   "execution_count": 122,
   "metadata": {},
   "outputs": [
    {
     "name": "stdout",
     "output_type": "stream",
     "text": [
      "-12 : U xahq Ye. Pmtxuz'e oxmee.\n",
      "-11 : V ybir Zf. Qnuyva'f pynff.\n",
      "-10 : W zcjs Ag. Rovzwb'g qzogg.\n",
      "-9 : X adkt Bh. Spwaxc'h raphh.\n",
      "-8 : Y belu Ci. Tqxbyd'i sbqii.\n",
      "-7 : Z cfmv Dj. Urycze'j tcrjj.\n",
      "-6 : A dgnw Ek. Vszdaf'k udskk.\n",
      "-5 : B ehox Fl. Wtaebg'l vetll.\n",
      "-4 : C fipy Gm. Xubfch'm wfumm.\n",
      "-3 : D gjqz Hn. Yvcgdi'n xgvnn.\n",
      "-2 : E hkra Io. Zwdhej'o yhwoo.\n",
      "-1 : F ilsb Jp. Axeifk'p zixpp.\n",
      "0 : G jmtc Kq. Byfjgl'q ajyqq.\n",
      "1 : H knud Lr. Czgkhm'r bkzrr.\n",
      "2 : I love Ms. Dahlin's class.\n",
      "3 : J mpwf Nt. Ebimjo't dmbtt.\n",
      "4 : K nqxg Ou. Fcjnkp'u encuu.\n",
      "5 : L oryh Pv. Gdkolq'v fodvv.\n",
      "6 : M pszi Qw. Helpmr'w gpeww.\n",
      "7 : N qtaj Rx. Ifmqns'x hqfxx.\n",
      "8 : O rubk Sy. Jgnrot'y irgyy.\n",
      "9 : P svcl Tz. Khospu'z jshzz.\n",
      "10 : Q twdm Ua. Liptqv'a ktiaa.\n",
      "11 : R uxen Vb. Mjqurw'b lujbb.\n",
      "12 : S vyfo Wc. Nkrvsx'c mvkcc.\n",
      "13 : T wzgp Xd. Olswty'd nwldd.\n"
     ]
    }
   ],
   "source": [
    "#just to verify if I am on the right track\n",
    "decrypt(\"G jmtc Kq. Byfjgl'q ajyqq.\")"
   ]
  },
  {
   "cell_type": "markdown",
   "metadata": {},
   "source": [
    "Step 3.2a"
   ]
  },
  {
   "cell_type": "code",
   "execution_count": 123,
   "metadata": {},
   "outputs": [
    {
     "name": "stdout",
     "output_type": "stream",
     "text": [
      "-12 : Gkqbyjo yi dej qd qsj, yj yi q xqryj.\n",
      "-11 : Hlrczkp zj efk re rtk, zk zj r yrszk.\n",
      "-10 : Imsdalq ak fgl sf sul, al ak s zstal.\n",
      "-9 : Jntebmr bl ghm tg tvm, bm bl t atubm.\n",
      "-8 : Koufcns cm hin uh uwn, cn cm u buvcn.\n",
      "-7 : Lpvgdot dn ijo vi vxo, do dn v cvwdo.\n",
      "-6 : Mqwhepu eo jkp wj wyp, ep eo w dwxep.\n",
      "-5 : Nrxifqv fp klq xk xzq, fq fp x exyfq.\n",
      "-4 : Osyjgrw gq lmr yl yar, gr gq y fyzgr.\n",
      "-3 : Ptzkhsx hr mns zm zbs, hs hr z gzahs.\n",
      "-2 : Quality is not an act, it is a habit.\n",
      "-1 : Rvbmjuz jt opu bo bdu, ju jt b ibcju.\n",
      "0 : Swcnkva ku pqv cp cev, kv ku c jcdkv.\n",
      "1 : Txdolwb lv qrw dq dfw, lw lv d kdelw.\n",
      "2 : Uyepmxc mw rsx er egx, mx mw e lefmx.\n",
      "3 : Vzfqnyd nx sty fs fhy, ny nx f mfgny.\n",
      "4 : Wagroze oy tuz gt giz, oz oy g nghoz.\n",
      "5 : Xbhspaf pz uva hu hja, pa pz h ohipa.\n",
      "6 : Ycitqbg qa vwb iv ikb, qb qa i pijqb.\n",
      "7 : Zdjurch rb wxc jw jlc, rc rb j qjkrc.\n",
      "8 : Aekvsdi sc xyd kx kmd, sd sc k rklsd.\n",
      "9 : Bflwtej td yze ly lne, te td l slmte.\n",
      "10 : Cgmxufk ue zaf mz mof, uf ue m tmnuf.\n",
      "11 : Dhnyvgl vf abg na npg, vg vf n unovg.\n",
      "12 : Eiozwhm wg bch ob oqh, wh wg o vopwh.\n",
      "13 : Fjpaxin xh cdi pc pri, xi xh p wpqxi.\n"
     ]
    }
   ],
   "source": [
    "#Aristotle's statement decrypted\n",
    "decrypt('Swcnkva ku pqv cp cev, kv ku c jcdkv.')"
   ]
  },
  {
   "cell_type": "markdown",
   "metadata": {},
   "source": [
    "Decrypted message is a shift of -2."
   ]
  },
  {
   "cell_type": "markdown",
   "metadata": {},
   "source": [
    "Step 3.2b"
   ]
  },
  {
   "cell_type": "code",
   "execution_count": 124,
   "metadata": {},
   "outputs": [
    {
     "name": "stdout",
     "output_type": "stream",
     "text": [
      "-12 : Rlzkk noonqstmhshdr zqd nesdm sgd adfhmmhmf ne fqdzs dmsdqoqhrdr.\n",
      "-11 : Small opportunities are often the beginning of great enterprises.\n",
      "-10 : Tnbmm pqqpsuvojujft bsf pgufo uif cfhjoojoh pg hsfbu foufsqsjtft.\n",
      "-9 : Uocnn qrrqtvwpkvkgu ctg qhvgp vjg dgikppkpi qh itgcv gpvgtrtkugu.\n",
      "-8 : Vpdoo rssruwxqlwlhv duh riwhq wkh ehjlqqlqj ri juhdw hqwhusulvhv.\n",
      "-7 : Wqepp sttsvxyrmxmiw evi sjxir xli fikmrrmrk sj kviex irxivtvmwiw.\n",
      "-6 : Xrfqq tuutwyzsnynjx fwj tkyjs ymj gjlnssnsl tk lwjfy jsyjwuwnxjx.\n",
      "-5 : Ysgrr uvvuxzatozoky gxk ulzkt znk hkmottotm ul mxkgz ktzkxvxoyky.\n",
      "-4 : Zthss vwwvyabupaplz hyl vmalu aol ilnpuupun vm nylha lualywypzlz.\n",
      "-3 : Auitt wxxwzbcvqbqma izm wnbmv bpm jmoqvvqvo wn ozmib mvbmzxzqama.\n",
      "-2 : Bvjuu xyyxacdwrcrnb jan xocnw cqn knprwwrwp xo panjc nwcnayarbnb.\n",
      "-1 : Cwkvv yzzybdexsdsoc kbo ypdox dro loqsxxsxq yp qbokd oxdobzbscoc.\n",
      "0 : Dxlww zaazcefytetpd lcp zqepy esp mprtyytyr zq rcple pyepcactdpd.\n",
      "1 : Eymxx abbadfgzufuqe mdq arfqz ftq nqsuzzuzs ar sdqmf qzfqdbdueqe.\n",
      "2 : Fznyy bccbeghavgvrf ner bsgra gur ortvaavat bs terng ragrecevfrf.\n",
      "3 : Gaozz cddcfhibwhwsg ofs cthsb hvs psuwbbwbu ct ufsoh sbhsfdfwgsg.\n",
      "4 : Hbpaa deedgijcxixth pgt duitc iwt qtvxccxcv du vgtpi tcitgegxhth.\n",
      "5 : Icqbb effehjkdyjyui qhu evjud jxu ruwyddydw ev whuqj udjuhfhyiui.\n",
      "6 : Jdrcc fggfiklezkzvj riv fwkve kyv svxzeezex fw xivrk vekvigizjvj.\n",
      "7 : Kesdd ghhgjlmfalawk sjw gxlwf lzw twyaffafy gx yjwsl wflwjhjakwk.\n",
      "8 : Lftee hiihkmngbmbxl tkx hymxg max uxzbggbgz hy zkxtm xgmxkikblxl.\n",
      "9 : Mguff ijjilnohcncym uly iznyh nby vyachhcha iz alyun yhnyljlcmym.\n",
      "10 : Nhvgg jkkjmopidodzn vmz jaozi ocz wzbdiidib ja bmzvo ziozmkmdnzn.\n",
      "11 : Oiwhh kllknpqjepeao wna kbpaj pda xacejjejc kb cnawp ajpanlneoao.\n",
      "12 : Pjxii lmmloqrkfqfbp xob lcqbk qeb ybdfkkfkd lc dobxq bkqbomofpbp.\n",
      "13 : Qkyjj mnnmprslgrgcq ypc mdrcl rfc zcegllgle md epcyr clrcpnpgqcq.\n"
     ]
    }
   ],
   "source": [
    "#Demosthenes's statement decrypted\n",
    "decrypt('Dxlww zaazcefytetpd lcp zqepy esp mprtyytyr zq rcple pyepcactdpd.')"
   ]
  },
  {
   "cell_type": "markdown",
   "metadata": {},
   "source": [
    "Decrypted message is a shift of -11."
   ]
  },
  {
   "cell_type": "markdown",
   "metadata": {},
   "source": [
    "Step 3.2c"
   ]
  },
  {
   "cell_type": "code",
   "execution_count": 125,
   "metadata": {},
   "outputs": [
    {
     "name": "stdout",
     "output_type": "stream",
     "text": [
      "-12 : Tqnm qa iv cvnwtlumvb, ivl bpm nczbpmz em bzidmt bpm uwzm bzcbp em kiv kwuxzmpmvl. Bw cvlmzabivl bpm bpqvoa bpib izm ib wcz lwwz qa bpm jmab xzmxizibqwv nwz cvlmzabivlqvo bpwam bpib tqm jmgwvl.\n",
      "-11 : Uron rb jw dwoxumvnwc, jwm cqn odacqna fn cajenu cqn vxan cadcq fn ljw lxvyanqnwm. Cx dwmnabcjwm cqn cqrwpb cqjc jan jc xda mxxa rb cqn knbc yanyjajcrxw oxa dwmnabcjwmrwp cqxbn cqjc urn knhxwm.\n",
      "-10 : Vspo sc kx expyvnwoxd, kxn dro pebdrob go dbkfov dro wybo dbedr go mkx mywzboroxn. Dy exnobcdkxn dro drsxqc drkd kbo kd yeb nyyb sc dro locd zbozkbkdsyx pyb exnobcdkxnsxq dryco drkd vso loiyxn.\n",
      "-9 : Wtqp td ly fyqzwoxpye, lyo esp qfcespc hp eclgpw esp xzcp ecfes hp nly nzxacpspyo. Ez fyopcdelyo esp estyrd esle lcp le zfc ozzc td esp mpde acpalcletzy qzc fyopcdelyotyr eszdp esle wtp mpjzyo.\n",
      "-8 : Xurq ue mz gzraxpyqzf, mzp ftq rgdftqd iq fdmhqx ftq yadq fdgft iq omz oaybdqtqzp. Fa gzpqdefmzp ftq ftuzse ftmf mdq mf agd paad ue ftq nqef bdqbmdmfuaz rad gzpqdefmzpuzs ftaeq ftmf xuq nqkazp.\n",
      "-7 : Yvsr vf na hasbyqzrag, naq gur shegure jr geniry gur zber gehgu jr pna pbzceruraq. Gb haqrefgnaq gur guvatf gung ner ng bhe qbbe vf gur orfg cercnengvba sbe haqrefgnaqvat gubfr gung yvr orlbaq.\n",
      "-6 : Zwts wg ob ibtczrasbh, obr hvs tifhvsf ks hfojsz hvs acfs hfihv ks qob qcadfsvsbr. Hc ibrsfghobr hvs hvwbug hvoh ofs oh cif rccf wg hvs psgh dfsdofohwcb tcf ibrsfghobrwbu hvcgs hvoh zws psmcbr.\n",
      "-5 : Axut xh pc jcudasbtci, pcs iwt ujgiwtg lt igpkta iwt bdgt igjiw lt rpc rdbegtwtcs. Id jcstghipcs iwt iwxcvh iwpi pgt pi djg sddg xh iwt qthi egtepgpixdc udg jcstghipcsxcv iwdht iwpi axt qtndcs.\n",
      "-4 : Byvu yi qd kdvebtcudj, qdt jxu vkhjxuh mu jhqlub jxu cehu jhkjx mu sqd secfhuxudt. Je kdtuhijqdt jxu jxydwi jxqj qhu qj ekh teeh yi jxu ruij fhufqhqjyed veh kdtuhijqdtydw jxeiu jxqj byu ruoedt.\n",
      "-3 : Czwv zj re lewfcudvek, reu kyv wlikyvi nv kirmvc kyv dfiv kilky nv tre tfdgivyveu. Kf leuvijkreu kyv kyzexj kyrk riv rk fli uffi zj kyv svjk givgrirkzfe wfi leuvijkreuzex kyfjv kyrk czv svpfeu.\n",
      "-2 : Daxw ak sf mfxgdvewfl, sfv lzw xmjlzwj ow ljsnwd lzw egjw ljmlz ow usf ugehjwzwfv. Lg mfvwjklsfv lzw lzafyk lzsl sjw sl gmj vggj ak lzw twkl hjwhsjslagf xgj mfvwjklsfvafy lzgkw lzsl daw twqgfv.\n",
      "-1 : Ebyx bl tg ngyhewfxgm, tgw max ynkmaxk px mktoxe max fhkx mknma px vtg vhfikxaxgw. Mh ngwxklmtgw max mabgzl matm tkx tm hnk whhk bl max uxlm ikxitktmbhg yhk ngwxklmtgwbgz mahlx matm ebx uxrhgw.\n",
      "0 : Fczy cm uh ohzifxgyhn, uhx nby zolnbyl qy nlupyf nby gily nlonb qy wuh wigjlybyhx. Ni ohxylmnuhx nby nbcham nbun uly un iol xiil cm nby vymn jlyjuluncih zil ohxylmnuhxcha nbimy nbun fcy vysihx.\n",
      "1 : Gdaz dn vi piajgyhzio, viy ocz apmoczm rz omvqzg ocz hjmz ompoc rz xvi xjhkmzcziy. Oj piyzmnoviy ocz ocdibn ocvo vmz vo jpm yjjm dn ocz wzno kmzkvmvodji ajm piyzmnoviydib ocjnz ocvo gdz wztjiy.\n",
      "2 : Heba eo wj qjbkhziajp, wjz pda bqnpdan sa pnwrah pda ikna pnqpd sa ywj ykilnadajz. Pk qjzanopwjz pda pdejco pdwp wna wp kqn zkkn eo pda xaop lnalwnwpekj bkn qjzanopwjzejc pdkoa pdwp hea xaukjz.\n",
      "3 : Ifcb fp xk rkcliajbkq, xka qeb croqebo tb qoxsbi qeb jlob qorqe tb zxk zljmobebka. Ql rkabopqxka qeb qefkdp qexq xob xq lro allo fp qeb ybpq mobmxoxqflk clo rkabopqxkafkd qelpb qexq ifb ybvlka.\n",
      "4 : Jgdc gq yl sldmjbkclr, ylb rfc dsprfcp uc rpytcj rfc kmpc rpsrf uc ayl amknpcfclb. Rm slbcpqrylb rfc rfgleq rfyr ypc yr msp bmmp gq rfc zcqr npcnypyrgml dmp slbcpqrylbgle rfmqc rfyr jgc zcwmlb.\n",
      "5 : Khed hr zm tmenkcldms, zmc sgd etqsgdq vd sqzudk sgd lnqd sqtsg vd bzm bnloqdgdmc. Sn tmcdqrszmc sgd sghmfr sgzs zqd zs ntq cnnq hr sgd adrs oqdozqzshnm enq tmcdqrszmchmf sgnrd sgzs khd adxnmc.\n",
      "6 : Life is an unfoldment, and the further we travel the more truth we can comprehend. To understand the things that are at our door is the best preparation for understanding those that lie beyond.\n",
      "7 : Mjgf jt bo vogpmenfou, boe uif gvsuifs xf usbwfm uif npsf usvui xf dbo dpnqsfifoe. Up voefstuboe uif uijoht uibu bsf bu pvs epps jt uif cftu qsfqbsbujpo gps voefstuboejoh uiptf uibu mjf cfzpoe.\n",
      "8 : Nkhg ku cp wphqnfogpv, cpf vjg hwtvjgt yg vtcxgn vjg oqtg vtwvj yg ecp eqortgjgpf. Vq wpfgtuvcpf vjg vjkpiu vjcv ctg cv qwt fqqt ku vjg dguv rtgrctcvkqp hqt wpfgtuvcpfkpi vjqug vjcv nkg dgaqpf.\n",
      "9 : Olih lv dq xqirogphqw, dqg wkh ixuwkhu zh wudyho wkh pruh wuxwk zh fdq frpsuhkhqg. Wr xqghuvwdqg wkh wklqjv wkdw duh dw rxu grru lv wkh ehvw suhsdudwlrq iru xqghuvwdqglqj wkrvh wkdw olh ehbrqg.\n",
      "10 : Pmji mw er yrjsphqirx, erh xli jyvxliv ai xvezip xli qsvi xvyxl ai ger gsqtvilirh. Xs yrhivwxerh xli xlmrkw xlex evi ex syv hssv mw xli fiwx tvitevexmsr jsv yrhivwxerhmrk xlswi xlex pmi ficsrh.\n",
      "11 : Qnkj nx fs zsktqirjsy, fsi ymj kzwymjw bj ywfajq ymj rtwj ywzym bj hfs htruwjmjsi. Yt zsijwxyfsi ymj ymnslx ymfy fwj fy tzw ittw nx ymj gjxy uwjufwfynts ktw zsijwxyfsinsl ymtxj ymfy qnj gjdtsi.\n",
      "12 : Rolk oy gt atlurjsktz, gtj znk laxznkx ck zxgbkr znk suxk zxazn ck igt iusvxknktj. Zu atjkxyzgtj znk znotmy zngz gxk gz uax juux oy znk hkyz vxkvgxgzout lux atjkxyzgtjotm znuyk zngz rok hkeutj.\n",
      "13 : Spml pz hu bumvsktlua, huk aol mbyaoly dl ayhcls aol tvyl aybao dl jhu jvtwyloluk. Av buklyzahuk aol aopunz aoha hyl ha vby kvvy pz aol ilza wylwhyhapvu mvy buklyzahukpun aovzl aoha spl ilfvuk.\n"
     ]
    }
   ],
   "source": [
    "#Hypatia's statement decrypted\n",
    "decrypt('Fczy cm uh ohzifxgyhn, uhx nby zolnbyl qy nlupyf nby gily nlonb qy wuh wigjlybyhx. Ni ohxylmnuhx nby nbcham nbun uly un iol xiil cm nby vymn jlyjuluncih zil ohxylmnuhxcha nbimy nbun fcy vysihx.')"
   ]
  },
  {
   "cell_type": "markdown",
   "metadata": {},
   "source": [
    "Decrypted message is a shift of +6."
   ]
  },
  {
   "cell_type": "markdown",
   "metadata": {},
   "source": [
    "# End"
   ]
  }
 ],
 "metadata": {
  "kernelspec": {
   "display_name": "Python 3",
   "language": "python",
   "name": "python3"
  },
  "language_info": {
   "codemirror_mode": {
    "name": "ipython",
    "version": 3
   },
   "file_extension": ".py",
   "mimetype": "text/x-python",
   "name": "python",
   "nbconvert_exporter": "python",
   "pygments_lexer": "ipython3",
   "version": "3.7.3"
  }
 },
 "nbformat": 4,
 "nbformat_minor": 2
}
